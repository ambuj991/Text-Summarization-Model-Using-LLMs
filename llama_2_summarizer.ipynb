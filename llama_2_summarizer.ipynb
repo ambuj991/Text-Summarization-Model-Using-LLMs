{
  "nbformat": 4,
  "nbformat_minor": 0,
  "metadata": {
    "colab": {
      "provenance": [],
      "gpuType": "T4"
    },
    "kernelspec": {
      "name": "python3",
      "display_name": "Python 3"
    },
    "language_info": {
      "name": "python"
    },
    "accelerator": "GPU"
  },
  "cells": [
    {
      "cell_type": "code",
      "source": [
        "import locale\n",
        "locale.getpreferredencoding = lambda: \"UTF-8\""
      ],
      "metadata": {
        "id": "UwsLbnt1FpS4"
      },
      "execution_count": 1,
      "outputs": []
    },
    {
      "cell_type": "code",
      "source": [
        "!pip install transformers\n",
        "!pip install accelerate\n",
        "!pip install huggingface_hub\n",
        "!pip install flask\n",
        "!pip install flask-ngrok\n",
        "!pip install pyngrok==4.1.1\n",
        "!pip install -U flask-cors"
      ],
      "metadata": {
        "id": "pTkTGooKY90u"
      },
      "execution_count": null,
      "outputs": []
    },
    {
      "cell_type": "code",
      "source": [
        "!huggingface-cli login"
      ],
      "metadata": {
        "colab": {
          "base_uri": "https://localhost:8080/"
        },
        "id": "NIgtyO3-Zg4Q",
        "outputId": "34c58afa-9c43-4a20-a773-603931f59bcf"
      },
      "execution_count": 3,
      "outputs": [
        {
          "output_type": "stream",
          "name": "stdout",
          "text": [
            "\n",
            "    _|    _|  _|    _|    _|_|_|    _|_|_|  _|_|_|  _|      _|    _|_|_|      _|_|_|_|    _|_|      _|_|_|  _|_|_|_|\n",
            "    _|    _|  _|    _|  _|        _|          _|    _|_|    _|  _|            _|        _|    _|  _|        _|\n",
            "    _|_|_|_|  _|    _|  _|  _|_|  _|  _|_|    _|    _|  _|  _|  _|  _|_|      _|_|_|    _|_|_|_|  _|        _|_|_|\n",
            "    _|    _|  _|    _|  _|    _|  _|    _|    _|    _|    _|_|  _|    _|      _|        _|    _|  _|        _|\n",
            "    _|    _|    _|_|      _|_|_|    _|_|_|  _|_|_|  _|      _|    _|_|_|      _|        _|    _|    _|_|_|  _|_|_|_|\n",
            "\n",
            "    To login, `huggingface_hub` requires a token generated from https://huggingface.co/settings/tokens .\n",
            "Token: \n",
            "Add token as git credential? (Y/n) Y\n",
            "Token is valid (permission: read).\n",
            "\u001b[1m\u001b[31mCannot authenticate through git-credential as no helper is defined on your machine.\n",
            "You might have to re-authenticate when pushing to the Hugging Face Hub.\n",
            "Run the following command in your terminal in case you want to set the 'store' credential helper as default.\n",
            "\n",
            "git config --global credential.helper store\n",
            "\n",
            "Read https://git-scm.com/book/en/v2/Git-Tools-Credential-Storage for more details.\u001b[0m\n",
            "Token has not been saved to git credential helper.\n",
            "Your token has been saved to /root/.cache/huggingface/token\n",
            "Login successful\n"
          ]
        }
      ]
    },
    {
      "cell_type": "code",
      "execution_count": null,
      "metadata": {
        "id": "5FyKXgQEYjcl"
      },
      "outputs": [],
      "source": [
        "from transformers import AutoTokenizer\n",
        "import transformers\n",
        "import torch\n",
        "\n",
        "model = \"meta-llama/Llama-2-7b-chat-hf\"\n",
        "\n",
        "tokenizer = AutoTokenizer.from_pretrained(model)\n",
        "pipeline = transformers.pipeline(\n",
        "    \"text-generation\",\n",
        "    model=model,\n",
        "    torch_dtype=torch.float16,\n",
        "    device_map=\"auto\",\n",
        ")\n"
      ]
    },
    {
      "cell_type": "markdown",
      "source": [
        "## Summarizer"
      ],
      "metadata": {
        "id": "er0LKWdRj-p0"
      }
    },
    {
      "cell_type": "code",
      "source": [
        "def summarize(prompt):\n",
        "  summarizer_instruction = f\"\"\"\n",
        "    <s>[INST]<<SYS>>\n",
        "      You are a summarizer and your job is to summarize whatever user asks you too in a most concise manner while being safe. Your summaries must have the same meaning and not include and false information. Make sure you dont use any external knowledge other than whats provided to you. Your final output must only be the summarize text.\n",
        "    <</SYS>>\n",
        "    {prompt}\n",
        "    [/INST]\n",
        "  \"\"\"\n",
        "  sequences = pipeline(\n",
        "      summarizer_instruction,\n",
        "      do_sample=True,\n",
        "      top_k=10,\n",
        "      num_return_sequences=1,\n",
        "      eos_token_id=tokenizer.eos_token_id,\n",
        "  )\n",
        "\n",
        "  answer = sequences[0]['generated_text'].split(\"[/INST]\")[1].strip()\n",
        "  return answer"
      ],
      "metadata": {
        "id": "H_AXZbTAY6h2"
      },
      "execution_count": null,
      "outputs": []
    },
    {
      "cell_type": "code",
      "source": [
        "prompt = \"\"\"Hodgkin left Benwell Dene in 1887, aged ten, to spend the first of four years at the preparatory Seabank School, in Alnmouth, though several months of his first year were spent at home recovering from bronchitis.By all accounts, Hodgkin's first years at school were unhappy. \"School at Alnmouth was not a bit a happy time\", one sister later recalled; \"when he was old he used to say that it did seem strange that the hardest lessons you had to learn came at the very beginning of life.\"[14] Another noted that \"he hated it too much to talk about it\", and that when older, he stated \"The one thing to be said for it was that all later miseries seemed nothing by comparison\".Hodgkin's wife, meanwhile, termed him a \"home lover\" for whom the time at Seabank was \"more or less unhappy\".Hodgkin would pray for the school to burn down, and one year his prayers were answered, in a fashion, when an outbreak of scarlet fever led to all the boys being sent home.The situation improved slightly when Hodgkin\\'s brother George, three and a half years his junior, entered Seabank, and (as his sister wrote), \"Robin became resigned\"\"\"\n",
        "summarize(prompt)"
      ],
      "metadata": {
        "id": "7Mo5qygDgHbH"
      },
      "execution_count": null,
      "outputs": []
    },
    {
      "cell_type": "code",
      "source": [
        "!curl -s https://ngrok-agent.s3.amazonaws.com/ngrok.asc | sudo tee /etc/apt/trusted.gpg.d/ngrok.asc >/dev/null && echo \"deb https://ngrok-agent.s3.amazonaws.com buster main\" | sudo tee /etc/apt/sources.list.d/ngrok.list && sudo apt update && sudo apt install ngrok"
      ],
      "metadata": {
        "id": "PEbQPfz52wyc"
      },
      "execution_count": null,
      "outputs": []
    },
    {
      "cell_type": "code",
      "source": [
        "!ngrok authtoken <YOUR_NGROK_AUTH_TOKEN_HERE>"
      ],
      "metadata": {
        "id": "2A2NZWPo2IEN"
      },
      "execution_count": null,
      "outputs": []
    },
    {
      "cell_type": "code",
      "source": [
        "from flask import Flask, request\n",
        "from flask_ngrok import run_with_ngrok\n",
        "from flask_cors import CORS, cross_origin\n",
        "\n",
        "app = Flask(__name__)\n",
        "cors = CORS(app)\n",
        "app.config['CORS_HEADERS'] = 'Content-Type'\n",
        "\n",
        "run_with_ngrok(app)\n",
        "\n",
        "@app.route(\"/summarize\")\n",
        "@cross_origin()\n",
        "\n",
        "def home():\n",
        "  summarizing_text = request.args.get('text')\n",
        "  if len(summarizing_text) == 0:\n",
        "    return {\n",
        "        \"message\": \"Text is empty\",\n",
        "        \"code\": 400\n",
        "    }, 400\n",
        "\n",
        "  text = summarize(summarizing_text)\n",
        "  return {\n",
        "      \"summarized_text\": text,\n",
        "      \"code\": 200\n",
        "  },200\n",
        "app.run()"
      ],
      "metadata": {
        "id": "nGNIA1481kb1"
      },
      "execution_count": null,
      "outputs": []
    },
    {
      "cell_type": "code",
      "source": [],
      "metadata": {
        "id": "i7wI_mPe4P8f"
      },
      "execution_count": null,
      "outputs": []
    }
  ]
}